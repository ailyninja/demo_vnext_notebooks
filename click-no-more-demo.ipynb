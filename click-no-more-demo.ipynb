{
  "metadata": {
    "kernelspec": {
      "display_name": "Jupyter Notebook",
      "name": "jupyter"
    },
    "lastEditStatus": {
      "notebookId": "dfne33uipo5cccerx45g",
      "authorId": "57952000088",
      "authorName": "ADMIN",
      "authorEmail": "",
      "sessionId": "8760cd9d-1108-4467-abc5-e5467964f3b9",
      "lastEditTime": 1759185682198
    }
  },
  "nbformat_minor": 5,
  "nbformat": 4,
  "cells": [
    {
      "id": "8d335ddf-2b24-45f2-a1a3-1e1d28f1b9d9",
      "cell_type": "code",
      "metadata": {
        "language": "python"
      },
      "source": "!pip install tabulate",
      "outputs": []
    },
    {
      "cell_type": "code",
      "id": "3775908f-ca36-4846-8f38-5adca39217f2",
      "metadata": {
        "language": "python",
        "collapsed": false,
        "codeCollapsed": false
      },
      "source": "import snowflake.connector as snow\nimport matplotlib.pyplot as plt\nimport numpy as np\nimport pandas as pd\nimport time\nimport datetime\nimport random\nimport statistics\nimport tabulate\nfrom concurrent.futures import ThreadPoolExecutor, as_completed\n\nconn_kwargs={}\n\ndef execute_and_print(query):\n    cursor.execute(query)\n    print(tabulate.tabulate(cursor.fetchall()))\n\ndef run_and_measure(count, mode):\n\n    if mode ==\"std\":\n        query = \"\"\"\n                SELECT SearchEngineID, ClientIP, COUNT(*) AS c, SUM(IsRefresh), AVG(ResolutionWidth) FROM \n                BENCHMARK_FDN.HITS2_CSV\n                WHERE SearchPhrase <> '' GROUP BY SearchEngineID, ClientIP ORDER BY c DESC LIMIT 10;\n                \"\"\"\n        warehouse_query =\"USE WAREHOUSE XSMALL\"\n    else:\n        query = \"\"\"\n                SELECT SearchEngineID, ClientIP, COUNT(*) AS c, SUM(IsRefresh), AVG(ResolutionWidth) FROM \n                BENCHMARK_INTERACTIVE.HITS2_CSV\n                WHERE SearchPhrase <> '' GROUP BY SearchEngineID, ClientIP ORDER BY c DESC LIMIT 10;\n                \"\"\"\n        warehouse_query =\"USE WAREHOUSE interactive_demo_b\"\n    timings = []\n    with snow.connect(**conn_kwargs) as conn:\n        with conn.cursor() as cur:\n            cur.execute(warehouse_query)\n            cursor.execute('ALTER SESSION SET USE_CACHED_RESULT = FALSE;')\n            for i in range(count+1):\n                t0 = time.time()\n                cur.execute(query).fetchall()\n                time_taken = time.time() - t0\n                timings.append(time_taken)\n                \n    return timings[1:]\n    \n\n\ndef plot_data(data, title, time_taken, color='blue'):\n    # Separate titles and counts\n    titles = [item[0] for item in data]\n    counts = [item[1] for item in data]\n\n    # Plot bar chart\n    \n    plt.figure(figsize=(12, 4))\n    plt.bar(titles, counts, color=color)\n    plt.xticks(rotation=45, ha='right')\n    plt.ylabel(\"Counts\")\n    plt.xlabel(\"Title\")\n    plt.title(title)\n    plt.text(5, 240, f'Time taken: {time_taken:.4f} seconds', ha='right',va='top', fontdict={'size': 16})\n    #plt.tight_layout()\n    plt.show()\n\n# Separate titles and counts\n#titles = ['Run 1', 'Run 2', 'Run 3', 'Run 4', 'Run 5', 'Run 6', 'Run 7', 'Run 8']\ncounts_std = [0.1,0.15, 0.09, 0.12, 0.11, 0.13, 0.10, 0.14]\ncounts_iw = [0.05, 0.08, 0.07, 0.06, 0.09, 0.08, 0.07, 0.06]\n# Plot bar chart",
      "execution_count": null,
      "outputs": []
    },
    {
      "cell_type": "markdown",
      "id": "678d459c-23d9-471d-ba70-4d27614ce946",
      "metadata": {
        "collapsed": false,
        "codeCollapsed": true
      },
      "source": "## Setting up connection to a Snowflake deployment, verify version",
      "outputs": []
    },
    {
      "cell_type": "code",
      "id": "8d50cbf4-0c8d-4950-86cb-114990437ac9",
      "metadata": {
        "language": "python"
      },
      "source": "config = { }\ncursor = snow.connect(**config).cursor()\nexecute_and_print('select current_version();')\nexecute_and_print(\"show parameters like 'ENABLE_INTERACTIVE_WAREHOUSES' for account;\")\nexecute_and_print(\"show parameters like 'ENABLE_INTERACTIVE_TABLE_DDL' for account;\")\nexecute_and_print(\"show parameters like 'SHOW_INCLUDE_INTERACTIVE_TABLES' for account;\")\nquery = \"\"\" USE DATABASE WILL_TEST; \"\"\"\nexecute_and_print(query)\n\nquery = \"\"\" USE ROLE SYSADMIN;  \"\"\"\nexecute_and_print(query)",
      "execution_count": null,
      "outputs": []
    },
    {
      "cell_type": "markdown",
      "id": "2bf02b1f-d13a-466b-9b20-5d7fd5c63b97",
      "metadata": {
        "collapsed": false,
        "codeCollapsed": true
      },
      "source": "## Create an interactive warehouse & Turn it on\n![alt text](https://github.com/user-attachments/assets/edaac236-9a79-4519-8ca2-3091c7ad703c)\n",
      "outputs": []
    },
    {
      "cell_type": "code",
      "id": "c695373e-ac74-4b62-a1f1-08206cbd5c81",
      "metadata": {
        "language": "python"
      },
      "source": "query = \"\"\"\nCREATE or REPLACE INTERACTIVE WAREHOUSE interactive_demo_b\n                WAREHOUSE_SIZE = 'XSMALL'\n                MIN_CLUSTER_COUNT = 1\n                MAX_CLUSTER_COUNT = 1\n                COMMENT = 'Interactive warehouse demo';\n\"\"\"\nexecute_and_print(query)\nquery = \"\"\"\nALTER WAREHOUSE INTERACTIVE_DEMO_B RESUME;\n\"\"\"\nexecute_and_print(query)",
      "execution_count": null,
      "outputs": []
    },
    {
      "cell_type": "markdown",
      "id": "06df641b-3770-40d2-a811-211a6dcc1e00",
      "metadata": {
        "collapsed": false,
        "codeCollapsed": true
      },
      "source": "## Create an interactive table\n![alt text](https://github.com/user-attachments/assets/2e0a7ba7-83d9-4b89-8184-cba5d590ebb2)",
      "outputs": []
    },
    {
      "cell_type": "code",
      "id": "75bc75ff-e185-473b-ad04-551b7bab69fa",
      "metadata": {
        "language": "python"
      },
      "outputs": [],
      "source": "print(\"Switch to demo database\")\nprint(cursor.execute(\"USE DATABASE WILL_TEST\").fetchall())\n\nprint(\"Use a standard warehouse for creating the interactive table's data\")\nprint(cursor.execute(\"USE WAREHOUSE XLARGE\").fetchall())\n\nquery = \"\"\"\nCREATE OR REPLACE INTERACTIVE TABLE \nWILL_TEST.BENCHMARK_INTERACTIVE.CUSTOMERS CLUSTER BY (CUSTOMER_ID)\nAS\n SELECT * FROM WILL_TEST.BENCHMARK_FDN.CUSTOMERS\n \n\"\"\"\nexecute_and_print(query)",
      "execution_count": null
    },
    {
      "cell_type": "markdown",
      "id": "17be0555-d65b-4cf4-8957-667737fe2c96",
      "metadata": {
        "collapsed": false,
        "codeCollapsed": true
      },
      "source": "## Attach interactive table to a warehouse\nThis is the process that pre-warms data\n![alt text](https://github.com/user-attachments/assets/a08f7936-4da7-4415-88c4-f0ae7a2a60d7)",
      "outputs": []
    },
    {
      "cell_type": "code",
      "id": "92b6ee93-d4e8-4af0-a637-09f68842cfea",
      "metadata": {
        "language": "python"
      },
      "outputs": [],
      "source": "query = \"\"\"\nUSE DATABASE WILL_TEST;\n\"\"\"\nexecute_and_print(query)\n\nquery = \"\"\"\nALTER WAREHOUSE interactive_demo_b ADD TABLES(BENCHMARK_INTERACTIVE.HITS2_CSV);\n\"\"\"\nexecute_and_print(query)",
      "execution_count": null
    },
    {
      "cell_type": "markdown",
      "id": "e1c97931-bcb6-4b37-a4e5-82e328f29348",
      "metadata": {
        "collapsed": false,
        "codeCollapsed": true
      },
      "source": "## Run queries with interactive warehouse\n![alt text](https://github.com/user-attachments/assets/28aa2f08-562a-4e99-8785-e86d31c30e85)",
      "outputs": []
    },
    {
      "cell_type": "code",
      "id": "0df4c4d2-7d8d-42d7-946b-0fbe9dbb0a82",
      "metadata": {
        "language": "python"
      },
      "outputs": [],
      "source": "print(\"Use a standard warehouse for creating the interactive table's data\")\ncursor.execute(\"USE WAREHOUSE interactive_demo_b\")\ncursor.execute('use database WILL_TEST;')\ncursor.execute('ALTER SESSION SET USE_CACHED_RESULT = FALSE;')",
      "execution_count": null
    },
    {
      "cell_type": "code",
      "id": "85da3c19-ac70-44c6-bf92-e274487c1ac2",
      "metadata": {
        "language": "python"
      },
      "outputs": [],
      "source": "query = \"\"\"\nSELECT Title, COUNT(*) AS PageViews\nFROM BENCHMARK_INTERACTIVE.HITS2_CSV\nWHERE CounterID = 62\n  AND EventDate >= '2013-07-01'\n  AND EventDate <= '2013-07-31'\n  AND DontCountHits = 0\n  AND IsRefresh = 0\n  AND Title <> ''\n  AND REGEXP_LIKE(Title, '^[\\\\x00-\\\\x7F]+$')\n  AND LENGTH(Title) < 20\nGROUP BY Title\nORDER BY PageViews DESC\nLIMIT 10;\n\"\"\"\n\nstart_time = time.time()\nresult = cursor.execute(query).fetchall()\nend_time = time.time()\ntime_taken = end_time - start_time\n\nplot_data(result, \"Page visit analysis (Interactive)\", time_taken)\n",
      "execution_count": null
    },
    {
      "cell_type": "markdown",
      "id": "905bcba6-212f-48e4-9deb-69d4d6d2c6fe",
      "metadata": {
        "collapsed": false,
        "codeCollapsed": true
      },
      "source": "## Compare to a standard warehouse\n![alt text](https://github.com/user-attachments/assets/671a5d2a-cb0b-4da6-8cc2-8fe2a2c57c85)",
      "outputs": []
    },
    {
      "cell_type": "code",
      "id": "deb58f61-0357-4a3b-860f-1407cf339a8a",
      "metadata": {
        "language": "python"
      },
      "outputs": [],
      "source": "print(\"Use a standard warehouse for creating the interactive table's data\")\ncursor.execute(\"USE WAREHOUSE XSMALL\")\ncursor.execute('ALTER SESSION SET USE_CACHED_RESULT = FALSE;')\ncursor.execute('use database WILL_TEST;')",
      "execution_count": null
    },
    {
      "cell_type": "code",
      "id": "eee7b3aa-a2e7-43ec-a972-a8665b531f9d",
      "metadata": {
        "language": "python"
      },
      "outputs": [],
      "source": "query = \"\"\"\nSELECT Title, COUNT(*) AS PageViews\nFROM BENCHMARK_FDN.HITS2_CSV\nWHERE CounterID = 62\n  AND EventDate >= '2013-07-01'\n  AND EventDate <= '2013-07-31'\n  AND DontCountHits = 0\n  AND IsRefresh = 0\n  AND Title <> ''\n  AND REGEXP_LIKE(Title, '^[\\\\x00-\\\\x7F]+$')\n  AND LENGTH(Title) < 20\nGROUP BY Title\nORDER BY PageViews DESC\nLIMIT 10;\n\"\"\"\n\nstart_time = time.time()\nresult = cursor.execute(query).fetchall()\nend_time = time.time()\ntime_taken = end_time - start_time\n\nplot_data(result, \"Page visit analysis (Interactive)\", time_taken, 'green')\n",
      "execution_count": null
    },
    {
      "cell_type": "markdown",
      "id": "4188353f-c814-42cb-b9e4-13f2c5d9723c",
      "metadata": {
        "collapsed": false,
        "codeCollapsed": true
      },
      "source": "## Run some queries concurrently",
      "outputs": []
    },
    {
      "cell_type": "code",
      "id": "5ef2c353-90d1-456b-881c-bcac440f10f8",
      "metadata": {
        "language": "python"
      },
      "outputs": [],
      "source": "runs = 4\n\ncounts_iw = run_and_measure(runs,\"iw\")\nprint(counts_iw)\n\n\ncounts_std = run_and_measure(runs,\"std\")\nprint(counts_std)\n\ntitles = [f\"R{i}\" for i in range(1, len(counts_iw)+1)]\n\nx = np.arange(len(titles))  # the label locations\nwidth = 0.35  # bar width\n\nfig, ax = plt.subplots(figsize=(8, 5))\nax.bar(x - width/2, counts_std, width, label=\"Standard\", color=\"green\")\nax.bar(x + width/2, counts_iw, width, label=\"Interactive\", color=\"blue\")\n\nax.set_ylabel(\"Latency\")\nax.set_xlabel(\"Query run\")\nax.set_title(\"Standard vs Interactive warehouse\")\nax.set_xticks(x)\nax.set_xticklabels(titles)\nax.legend()\nplt.show()\n\n",
      "execution_count": null
    }
  ]
}